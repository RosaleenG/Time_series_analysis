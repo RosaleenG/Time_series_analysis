{
 "cells": [
  {
   "cell_type": "code",
   "execution_count": 5,
   "metadata": {},
   "outputs": [],
   "source": [
    "import pandas as pd\n",
    "from fbprophet import Prophet"
   ]
  },
  {
   "cell_type": "code",
   "execution_count": 6,
   "metadata": {},
   "outputs": [],
   "source": [
    "import pandas as pd\n",
    "\n",
    "df = pd.read_csv(\"data/london_smartmeter_basic.csv\")"
   ]
  },
  {
   "cell_type": "code",
   "execution_count": 9,
   "metadata": {},
   "outputs": [],
   "source": [
    "def preprocess(df):\n",
    "    df['day'] = pd.DatetimeIndex(df['day'])\n",
    "    df.dfrename(columns={'day': 'ds', 'consumption': 'y'})\n",
    "    \n",
    "    msk_eval = df.evaluation_set\n",
    "    df.drop(\"evaluation_set\", axis=1, inplace=True)\n",
    "    \n",
    "    ts = df[~msk_eval]\n",
    "    ts_eval = df[msk_eval]\n",
    "    \n",
    "    return ts, ts_eval\n"
   ]
  },
  {
   "cell_type": "code",
   "execution_count": 10,
   "metadata": {},
   "outputs": [],
   "source": [
    "def train(ts):\n",
    "    model = Prophet(growth='linear', weakly_seasonality=3,\n",
    "                   yearly_seasonality=12)\n",
    "    model.fit(ts)\n",
    "    return model\n"
   ]
  },
  {
   "cell_type": "code",
   "execution_count": 11,
   "metadata": {},
   "outputs": [],
   "source": [
    "def predict(model, ts_test):\n",
    "    preds = model.predict(ts_test)['yhat']\n",
    "    \n",
    "    return preds"
   ]
  },
  {
   "cell_type": "code",
   "execution_count": null,
   "metadata": {},
   "outputs": [],
   "source": []
  }
 ],
 "metadata": {
  "kernelspec": {
   "display_name": "Python 3",
   "language": "python",
   "name": "python3"
  },
  "language_info": {
   "codemirror_mode": {
    "name": "ipython",
    "version": 3
   },
   "file_extension": ".py",
   "mimetype": "text/x-python",
   "name": "python",
   "nbconvert_exporter": "python",
   "pygments_lexer": "ipython3",
   "version": "3.7.3"
  }
 },
 "nbformat": 4,
 "nbformat_minor": 2
}
